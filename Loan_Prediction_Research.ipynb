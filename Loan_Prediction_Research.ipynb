{
 "cells": [
  {
   "cell_type": "code",
   "execution_count": 3,
   "id": "eb19ad0e",
   "metadata": {},
   "outputs": [],
   "source": [
    "# Import core data science libraries\n",
    "import pandas as pd\n",
    "import numpy as np\n",
    "import matplotlib.pyplot as plt\n",
    "import seaborn as sns\n",
    "\n",
    "# Import machine learning libraries\n",
    "from sklearn.model_selection import train_test_split\n",
    "from sklearn.preprocessing import LabelEncoder\n",
    "from sklearn.ensemble import RandomForestClassifier\n",
    "from sklearn.metrics import accuracy_score, confusion_matrix, classification_report\n",
    "\n",
    "# Load the dataset into a pandas DataFrame\n",
    "df = pd.read_csv('loan_approval_dataset.csv')"
   ]
  },
  {
   "cell_type": "code",
   "execution_count": 4,
   "id": "4cd065ce",
   "metadata": {},
   "outputs": [],
   "source": [
    "new_column_names = {\n",
    "    ' no_of_dependents': 'no_of_dependents',\n",
    "    ' education': 'education',\n",
    "    ' self_employed': 'self_employed',\n",
    "    ' income_annum': 'income_annum',\n",
    "    ' loan_amount': 'loan_amount',\n",
    "    ' loan_term': 'loan_term',\n",
    "    ' cibil_score': 'cibil_score',\n",
    "    ' residential_assets_value': 'residential_assets_value',\n",
    "    ' commercial_assets_value': 'commercial_assets_value',\n",
    "    ' luxury_assets_value': 'luxury_assets_value',\n",
    "    ' bank_asset_value': 'bank_asset_value',\n",
    "    ' loan_status': 'loan_status'\n",
    "}\n",
    "df.rename(columns=new_column_names, inplace=True)"
   ]
  },
  {
   "cell_type": "code",
   "execution_count": 5,
   "id": "96d53dea",
   "metadata": {},
   "outputs": [
    {
     "name": "stdout",
     "output_type": "stream",
     "text": [
      "   loan_id  no_of_dependents      education self_employed  income_annum  \\\n",
      "0        1                 2       Graduate            No       9600000   \n",
      "1        2                 0   Not Graduate           Yes       4100000   \n",
      "2        3                 3       Graduate            No       9100000   \n",
      "3        4                 3       Graduate            No       8200000   \n",
      "4        5                 5   Not Graduate           Yes       9800000   \n",
      "\n",
      "   loan_amount  loan_term  cibil_score  residential_assets_value  \\\n",
      "0     29900000         12          778                   2400000   \n",
      "1     12200000          8          417                   2700000   \n",
      "2     29700000         20          506                   7100000   \n",
      "3     30700000          8          467                  18200000   \n",
      "4     24200000         20          382                  12400000   \n",
      "\n",
      "   commercial_assets_value  luxury_assets_value  bank_asset_value loan_status  \n",
      "0                 17600000             22700000           8000000    Approved  \n",
      "1                  2200000              8800000           3300000    Rejected  \n",
      "2                  4500000             33300000          12800000    Rejected  \n",
      "3                  3300000             23300000           7900000    Rejected  \n",
      "4                  8200000             29400000           5000000    Rejected  \n"
     ]
    }
   ],
   "source": [
    "print(df.head())"
   ]
  },
  {
   "cell_type": "code",
   "execution_count": 6,
   "id": "f30f80da",
   "metadata": {},
   "outputs": [
    {
     "name": "stdout",
     "output_type": "stream",
     "text": [
      "<class 'pandas.core.frame.DataFrame'>\n",
      "RangeIndex: 4269 entries, 0 to 4268\n",
      "Data columns (total 13 columns):\n",
      " #   Column                    Non-Null Count  Dtype \n",
      "---  ------                    --------------  ----- \n",
      " 0   loan_id                   4269 non-null   int64 \n",
      " 1   no_of_dependents          4269 non-null   int64 \n",
      " 2   education                 4269 non-null   object\n",
      " 3   self_employed             4269 non-null   object\n",
      " 4   income_annum              4269 non-null   int64 \n",
      " 5   loan_amount               4269 non-null   int64 \n",
      " 6   loan_term                 4269 non-null   int64 \n",
      " 7   cibil_score               4269 non-null   int64 \n",
      " 8   residential_assets_value  4269 non-null   int64 \n",
      " 9   commercial_assets_value   4269 non-null   int64 \n",
      " 10  luxury_assets_value       4269 non-null   int64 \n",
      " 11  bank_asset_value          4269 non-null   int64 \n",
      " 12  loan_status               4269 non-null   object\n",
      "dtypes: int64(10), object(3)\n",
      "memory usage: 433.7+ KB\n"
     ]
    }
   ],
   "source": [
    "df.info()"
   ]
  },
  {
   "cell_type": "code",
   "execution_count": 7,
   "id": "71cb595a",
   "metadata": {},
   "outputs": [
    {
     "name": "stdout",
     "output_type": "stream",
     "text": [
      "           loan_id  no_of_dependents  income_annum   loan_amount    loan_term  \\\n",
      "count  4269.000000       4269.000000  4.269000e+03  4.269000e+03  4269.000000   \n",
      "mean   2135.000000          2.498712  5.059124e+06  1.513345e+07    10.900445   \n",
      "std    1232.498479          1.695910  2.806840e+06  9.043363e+06     5.709187   \n",
      "min       1.000000          0.000000  2.000000e+05  3.000000e+05     2.000000   \n",
      "25%    1068.000000          1.000000  2.700000e+06  7.700000e+06     6.000000   \n",
      "50%    2135.000000          3.000000  5.100000e+06  1.450000e+07    10.000000   \n",
      "75%    3202.000000          4.000000  7.500000e+06  2.150000e+07    16.000000   \n",
      "max    4269.000000          5.000000  9.900000e+06  3.950000e+07    20.000000   \n",
      "\n",
      "       cibil_score  residential_assets_value  commercial_assets_value  \\\n",
      "count  4269.000000              4.269000e+03             4.269000e+03   \n",
      "mean    599.936051              7.472617e+06             4.973155e+06   \n",
      "std     172.430401              6.503637e+06             4.388966e+06   \n",
      "min     300.000000             -1.000000e+05             0.000000e+00   \n",
      "25%     453.000000              2.200000e+06             1.300000e+06   \n",
      "50%     600.000000              5.600000e+06             3.700000e+06   \n",
      "75%     748.000000              1.130000e+07             7.600000e+06   \n",
      "max     900.000000              2.910000e+07             1.940000e+07   \n",
      "\n",
      "       luxury_assets_value  bank_asset_value  \n",
      "count         4.269000e+03      4.269000e+03  \n",
      "mean          1.512631e+07      4.976692e+06  \n",
      "std           9.103754e+06      3.250185e+06  \n",
      "min           3.000000e+05      0.000000e+00  \n",
      "25%           7.500000e+06      2.300000e+06  \n",
      "50%           1.460000e+07      4.600000e+06  \n",
      "75%           2.170000e+07      7.100000e+06  \n",
      "max           3.920000e+07      1.470000e+07  \n"
     ]
    }
   ],
   "source": [
    "print(df.describe())"
   ]
  },
  {
   "cell_type": "code",
   "execution_count": 8,
   "id": "7e2afca2",
   "metadata": {},
   "outputs": [
    {
     "name": "stdout",
     "output_type": "stream",
     "text": [
      "Index(['loan_id', 'no_of_dependents', 'education', 'self_employed',\n",
      "       'income_annum', 'loan_amount', 'loan_term', 'cibil_score',\n",
      "       'residential_assets_value', 'commercial_assets_value',\n",
      "       'luxury_assets_value', 'bank_asset_value', 'loan_status'],\n",
      "      dtype='object')\n"
     ]
    }
   ],
   "source": [
    "print(df.columns)"
   ]
  },
  {
   "cell_type": "code",
   "execution_count": 9,
   "id": "478fcc73",
   "metadata": {},
   "outputs": [
    {
     "name": "stdout",
     "output_type": "stream",
     "text": [
      "\n",
      "--- Loan Status Distribution ---\n",
      "loan_status\n",
      "Approved    2656\n",
      "Rejected    1613\n",
      "Name: count, dtype: int64\n"
     ]
    },
    {
     "data": {
      "image/png": "[encoded data removed]",
      "text/plain": [
       "<Figure size 640x480 with 1 Axes>"
      ]
     },
     "metadata": {},
     "output_type": "display_data"
    }
   ],
   "source": [
    "# Count of Approved vs. Rejected Loans\n",
    "print(\"\\n--- Loan Status Distribution ---\")\n",
    "print(df['loan_status'].value_counts())\n",
    "sns.countplot(x='loan_status', data=df)\n",
    "plt.title('Distribution of Loan Status')\n",
    "plt.show()"
   ]
  },
  {
   "cell_type": "code",
   "execution_count": 10,
   "id": "b0633d67",
   "metadata": {},
   "outputs": [
    {
     "data": {
      "image/png": "[encoded data removed]",
      "text/plain": [
       "<Figure size 640x480 with 1 Axes>"
      ]
     },
     "metadata": {},
     "output_type": "display_data"
    }
   ],
   "source": [
    "# Distribution of CIBIL Scores\n",
    "sns.histplot(df['cibil_score'], kde=True)\n",
    "plt.title('Distribution of CIBIL Score')\n",
    "plt.xlabel('CIBIL Score')\n",
    "plt.show()"
   ]
  },
  {
   "cell_type": "code",
   "execution_count": null,
   "id": "c8137797",
   "metadata": {},
   "outputs": [
    {
     "data": {
      "image/png": "[encoded data removed]",
      "text/plain": [
       "<Figure size 1000x600 with 1 Axes>"
      ]
     },
     "metadata": {},
     "output_type": "display_data"
    }
   ],
   "source": [
    "import pandas as pd\n",
    "import matplotlib.pyplot as plt\n",
    "\n",
    "# Get feature importances from the trained Random Forest model\n",
    "importances = model.feature_importances_\n",
    "\n",
    "# Create a Series with feature names and their importance\n",
    "feature_importance_df = pd.Series(importances, index=X.columns).sort_values(ascending=False)\n",
    "\n",
    "# Plotting\n",
    "plt.figure(figsize=(10, 6))\n",
    "sns.barplot(x=feature_importance_df.values, y=feature_importance_df.index)\n",
    "plt.title('Feature Importance from Random Forest Model')\n",
    "plt.xlabel('Feature Importance Score')\n",
    "plt.ylabel('Features')\n",
    "plt.show()"
   ]
  },
  {
   "cell_type": "code",
   "execution_count": null,
   "id": "690ee5a6",
   "metadata": {},
   "outputs": [
    {
     "data": {
      "image/png": "[encoded data removed]",
      "text/plain": [
       "<Figure size 800x500 with 1 Axes>"
      ]
     },
     "metadata": {},
     "output_type": "display_data"
    }
   ],
   "source": [
    "import matplotlib.pyplot as plt\n",
    "import seaborn as sns\n",
    "\n",
    "# Plot the distribution of CIBIL Score, separated by Loan Status\n",
    "plt.figure(figsize=(8, 5))\n",
    "sns.histplot(\n",
    "    data=df, \n",
    "    x='cibil_score', \n",
    "    hue='loan_status', # 0: Rejected, 1: Approved\n",
    "    kde=True, \n",
    "    palette='viridis'\n",
    ")\n",
    "plt.title('CIBIL Score Distribution by Loan Status')\n",
    "plt.xlabel('CIBIL Score')\n",
    "plt.legend(labels=['Approved (1)', 'Rejected (0)'])\n",
    "plt.show()"
   ]
  },
  {
   "cell_type": "markdown",
   "id": "4540f6a6",
   "metadata": {},
   "source": [
    "### Data cleaning"
   ]
  },
  {
   "cell_type": "code",
   "execution_count": 11,
   "id": "8855e324",
   "metadata": {},
   "outputs": [],
   "source": [
    "# Drop the 'loan_id' column as it is a unique identifier and not useful for prediction\n",
    "df = df.drop('loan_id', axis=1)"
   ]
  },
  {
   "cell_type": "code",
   "execution_count": 12,
   "id": "50b15130",
   "metadata": {},
   "outputs": [
    {
     "data": {
      "text/html": [
       "<div>\n",
       "<style scoped>\n",
       "    .dataframe tbody tr th:only-of-type {\n",
       "        vertical-align: middle;\n",
       "    }\n",
       "\n",
       "    .dataframe tbody tr th {\n",
       "        vertical-align: top;\n",
       "    }\n",
       "\n",
       "    .dataframe thead th {\n",
       "        text-align: right;\n",
       "    }\n",
       "</style>\n",
       "<table border=\"1\" class=\"dataframe\">\n",
       "  <thead>\n",
       "    <tr style=\"text-align: right;\">\n",
       "      <th></th>\n",
       "      <th>no_of_dependents</th>\n",
       "      <th>education</th>\n",
       "      <th>self_employed</th>\n",
       "      <th>income_annum</th>\n",
       "      <th>loan_amount</th>\n",
       "      <th>loan_term</th>\n",
       "      <th>cibil_score</th>\n",
       "      <th>residential_assets_value</th>\n",
       "      <th>commercial_assets_value</th>\n",
       "      <th>luxury_assets_value</th>\n",
       "      <th>bank_asset_value</th>\n",
       "      <th>loan_status</th>\n",
       "    </tr>\n",
       "  </thead>\n",
       "  <tbody>\n",
       "    <tr>\n",
       "      <th>0</th>\n",
       "      <td>2</td>\n",
       "      <td>Graduate</td>\n",
       "      <td>No</td>\n",
       "      <td>9600000</td>\n",
       "      <td>29900000</td>\n",
       "      <td>12</td>\n",
       "      <td>778</td>\n",
       "      <td>2400000</td>\n",
       "      <td>17600000</td>\n",
       "      <td>22700000</td>\n",
       "      <td>8000000</td>\n",
       "      <td>Approved</td>\n",
       "    </tr>\n",
       "    <tr>\n",
       "      <th>1</th>\n",
       "      <td>0</td>\n",
       "      <td>Not Graduate</td>\n",
       "      <td>Yes</td>\n",
       "      <td>4100000</td>\n",
       "      <td>12200000</td>\n",
       "      <td>8</td>\n",
       "      <td>417</td>\n",
       "      <td>2700000</td>\n",
       "      <td>2200000</td>\n",
       "      <td>8800000</td>\n",
       "      <td>3300000</td>\n",
       "      <td>Rejected</td>\n",
       "    </tr>\n",
       "    <tr>\n",
       "      <th>2</th>\n",
       "      <td>3</td>\n",
       "      <td>Graduate</td>\n",
       "      <td>No</td>\n",
       "      <td>9100000</td>\n",
       "      <td>29700000</td>\n",
       "      <td>20</td>\n",
       "      <td>506</td>\n",
       "      <td>7100000</td>\n",
       "      <td>4500000</td>\n",
       "      <td>33300000</td>\n",
       "      <td>12800000</td>\n",
       "      <td>Rejected</td>\n",
       "    </tr>\n",
       "    <tr>\n",
       "      <th>3</th>\n",
       "      <td>3</td>\n",
       "      <td>Graduate</td>\n",
       "      <td>No</td>\n",
       "      <td>8200000</td>\n",
       "      <td>30700000</td>\n",
       "      <td>8</td>\n",
       "      <td>467</td>\n",
       "      <td>18200000</td>\n",
       "      <td>3300000</td>\n",
       "      <td>23300000</td>\n",
       "      <td>7900000</td>\n",
       "      <td>Rejected</td>\n",
       "    </tr>\n",
       "    <tr>\n",
       "      <th>4</th>\n",
       "      <td>5</td>\n",
       "      <td>Not Graduate</td>\n",
       "      <td>Yes</td>\n",
       "      <td>9800000</td>\n",
       "      <td>24200000</td>\n",
       "      <td>20</td>\n",
       "      <td>382</td>\n",
       "      <td>12400000</td>\n",
       "      <td>8200000</td>\n",
       "      <td>29400000</td>\n",
       "      <td>5000000</td>\n",
       "      <td>Rejected</td>\n",
       "    </tr>\n",
       "    <tr>\n",
       "      <th>...</th>\n",
       "      <td>...</td>\n",
       "      <td>...</td>\n",
       "      <td>...</td>\n",
       "      <td>...</td>\n",
       "      <td>...</td>\n",
       "      <td>...</td>\n",
       "      <td>...</td>\n",
       "      <td>...</td>\n",
       "      <td>...</td>\n",
       "      <td>...</td>\n",
       "      <td>...</td>\n",
       "      <td>...</td>\n",
       "    </tr>\n",
       "    <tr>\n",
       "      <th>4264</th>\n",
       "      <td>5</td>\n",
       "      <td>Graduate</td>\n",
       "      <td>Yes</td>\n",
       "      <td>1000000</td>\n",
       "      <td>2300000</td>\n",
       "      <td>12</td>\n",
       "      <td>317</td>\n",
       "      <td>2800000</td>\n",
       "      <td>500000</td>\n",
       "      <td>3300000</td>\n",
       "      <td>800000</td>\n",
       "      <td>Rejected</td>\n",
       "    </tr>\n",
       "    <tr>\n",
       "      <th>4265</th>\n",
       "      <td>0</td>\n",
       "      <td>Not Graduate</td>\n",
       "      <td>Yes</td>\n",
       "      <td>3300000</td>\n",
       "      <td>11300000</td>\n",
       "      <td>20</td>\n",
       "      <td>559</td>\n",
       "      <td>4200000</td>\n",
       "      <td>2900000</td>\n",
       "      <td>11000000</td>\n",
       "      <td>1900000</td>\n",
       "      <td>Approved</td>\n",
       "    </tr>\n",
       "    <tr>\n",
       "      <th>4266</th>\n",
       "      <td>2</td>\n",
       "      <td>Not Graduate</td>\n",
       "      <td>No</td>\n",
       "      <td>6500000</td>\n",
       "      <td>23900000</td>\n",
       "      <td>18</td>\n",
       "      <td>457</td>\n",
       "      <td>1200000</td>\n",
       "      <td>12400000</td>\n",
       "      <td>18100000</td>\n",
       "      <td>7300000</td>\n",
       "      <td>Rejected</td>\n",
       "    </tr>\n",
       "    <tr>\n",
       "      <th>4267</th>\n",
       "      <td>1</td>\n",
       "      <td>Not Graduate</td>\n",
       "      <td>No</td>\n",
       "      <td>4100000</td>\n",
       "      <td>12800000</td>\n",
       "      <td>8</td>\n",
       "      <td>780</td>\n",
       "      <td>8200000</td>\n",
       "      <td>700000</td>\n",
       "      <td>14100000</td>\n",
       "      <td>5800000</td>\n",
       "      <td>Approved</td>\n",
       "    </tr>\n",
       "    <tr>\n",
       "      <th>4268</th>\n",
       "      <td>1</td>\n",
       "      <td>Graduate</td>\n",
       "      <td>No</td>\n",
       "      <td>9200000</td>\n",
       "      <td>29700000</td>\n",
       "      <td>10</td>\n",
       "      <td>607</td>\n",
       "      <td>17800000</td>\n",
       "      <td>11800000</td>\n",
       "      <td>35700000</td>\n",
       "      <td>12000000</td>\n",
       "      <td>Approved</td>\n",
       "    </tr>\n",
       "  </tbody>\n",
       "</table>\n",
       "<p>4269 rows × 12 columns</p>\n",
       "</div>"
      ],
      "text/plain": [
       "      no_of_dependents      education self_employed  income_annum  \\\n",
       "0                    2       Graduate            No       9600000   \n",
       "1                    0   Not Graduate           Yes       4100000   \n",
       "2                    3       Graduate            No       9100000   \n",
       "3                    3       Graduate            No       8200000   \n",
       "4                    5   Not Graduate           Yes       9800000   \n",
       "...                ...            ...           ...           ...   \n",
       "4264                 5       Graduate           Yes       1000000   \n",
       "4265                 0   Not Graduate           Yes       3300000   \n",
       "4266                 2   Not Graduate            No       6500000   \n",
       "4267                 1   Not Graduate            No       4100000   \n",
       "4268                 1       Graduate            No       9200000   \n",
       "\n",
       "      loan_amount  loan_term  cibil_score  residential_assets_value  \\\n",
       "0        29900000         12          778                   2400000   \n",
       "1        12200000          8          417                   2700000   \n",
       "2        29700000         20          506                   7100000   \n",
       "3        30700000          8          467                  18200000   \n",
       "4        24200000         20          382                  12400000   \n",
       "...           ...        ...          ...                       ...   \n",
       "4264      2300000         12          317                   2800000   \n",
       "4265     11300000         20          559                   4200000   \n",
       "4266     23900000         18          457                   1200000   \n",
       "4267     12800000          8          780                   8200000   \n",
       "4268     29700000         10          607                  17800000   \n",
       "\n",
       "      commercial_assets_value  luxury_assets_value  bank_asset_value  \\\n",
       "0                    17600000             22700000           8000000   \n",
       "1                     2200000              8800000           3300000   \n",
       "2                     4500000             33300000          12800000   \n",
       "3                     3300000             23300000           7900000   \n",
       "4                     8200000             29400000           5000000   \n",
       "...                       ...                  ...               ...   \n",
       "4264                   500000              3300000            800000   \n",
       "4265                  2900000             11000000           1900000   \n",
       "4266                 12400000             18100000           7300000   \n",
       "4267                   700000             14100000           5800000   \n",
       "4268                 11800000             35700000          12000000   \n",
       "\n",
       "     loan_status  \n",
       "0       Approved  \n",
       "1       Rejected  \n",
       "2       Rejected  \n",
       "3       Rejected  \n",
       "4       Rejected  \n",
       "...          ...  \n",
       "4264    Rejected  \n",
       "4265    Approved  \n",
       "4266    Rejected  \n",
       "4267    Approved  \n",
       "4268    Approved  \n",
       "\n",
       "[4269 rows x 12 columns]"
      ]
     },
     "execution_count": 12,
     "metadata": {},
     "output_type": "execute_result"
    }
   ],
   "source": [
    "df"
   ]
  },
  {
   "cell_type": "code",
   "execution_count": 13,
   "id": "8cc367e8",
   "metadata": {},
   "outputs": [
    {
     "name": "stdout",
     "output_type": "stream",
     "text": [
      "Columns after removing 'loan_id':\n",
      "Index(['no_of_dependents', 'education', 'self_employed', 'income_annum',\n",
      "       'loan_amount', 'loan_term', 'cibil_score', 'residential_assets_value',\n",
      "       'commercial_assets_value', 'luxury_assets_value', 'bank_asset_value',\n",
      "       'loan_status'],\n",
      "      dtype='object')\n"
     ]
    }
   ],
   "source": [
    "print(\"Columns after removing 'loan_id':\")\n",
    "print(df.columns)"
   ]
  },
  {
   "cell_type": "code",
   "execution_count": 14,
   "id": "fb0649be",
   "metadata": {},
   "outputs": [],
   "source": [
    "le = LabelEncoder()"
   ]
  },
  {
   "cell_type": "code",
   "execution_count": 15,
   "id": "ae660a16",
   "metadata": {},
   "outputs": [],
   "source": [
    "# Encode 'education' column\n",
    "df['education'] = le.fit_transform(df['education'])"
   ]
  },
  {
   "cell_type": "code",
   "execution_count": 16,
   "id": "58a46963",
   "metadata": {},
   "outputs": [],
   "source": [
    "# Encode 'self_employed' column\n",
    "df['self_employed'] = le.fit_transform(df['self_employed'])"
   ]
  },
  {
   "cell_type": "code",
   "execution_count": 17,
   "id": "c652b101",
   "metadata": {},
   "outputs": [],
   "source": [
    "# Encode 'loan_status' column (this is our target variable)\n",
    "df['loan_status'] = le.fit_transform(df['loan_status'])"
   ]
  },
  {
   "cell_type": "code",
   "execution_count": 18,
   "id": "d311556f",
   "metadata": {},
   "outputs": [
    {
     "name": "stdout",
     "output_type": "stream",
     "text": [
      "\n",
      "--- DataFrame after Encoding Categorical Variables ---\n",
      "   no_of_dependents  education  self_employed  income_annum  loan_amount  \\\n",
      "0                 2          0              0       9600000     29900000   \n",
      "1                 0          1              1       4100000     12200000   \n",
      "2                 3          0              0       9100000     29700000   \n",
      "3                 3          0              0       8200000     30700000   \n",
      "4                 5          1              1       9800000     24200000   \n",
      "\n",
      "   loan_term  cibil_score  residential_assets_value  commercial_assets_value  \\\n",
      "0         12          778                   2400000                 17600000   \n",
      "1          8          417                   2700000                  2200000   \n",
      "2         20          506                   7100000                  4500000   \n",
      "3          8          467                  18200000                  3300000   \n",
      "4         20          382                  12400000                  8200000   \n",
      "\n",
      "   luxury_assets_value  bank_asset_value  loan_status  \n",
      "0             22700000           8000000            0  \n",
      "1              8800000           3300000            1  \n",
      "2             33300000          12800000            1  \n",
      "3             23300000           7900000            1  \n",
      "4             29400000           5000000            1  \n",
      "<class 'pandas.core.frame.DataFrame'>\n",
      "RangeIndex: 4269 entries, 0 to 4268\n",
      "Data columns (total 12 columns):\n",
      " #   Column                    Non-Null Count  Dtype\n",
      "---  ------                    --------------  -----\n",
      " 0   no_of_dependents          4269 non-null   int64\n",
      " 1   education                 4269 non-null   int64\n",
      " 2   self_employed             4269 non-null   int64\n",
      " 3   income_annum              4269 non-null   int64\n",
      " 4   loan_amount               4269 non-null   int64\n",
      " 5   loan_term                 4269 non-null   int64\n",
      " 6   cibil_score               4269 non-null   int64\n",
      " 7   residential_assets_value  4269 non-null   int64\n",
      " 8   commercial_assets_value   4269 non-null   int64\n",
      " 9   luxury_assets_value       4269 non-null   int64\n",
      " 10  bank_asset_value          4269 non-null   int64\n",
      " 11  loan_status               4269 non-null   int64\n",
      "dtypes: int64(12)\n",
      "memory usage: 400.3 KB\n",
      "None\n"
     ]
    }
   ],
   "source": [
    "print(\"\\n--- DataFrame after Encoding Categorical Variables ---\")\n",
    "print(df.head())\n",
    "print(df.info())"
   ]
  },
  {
   "cell_type": "markdown",
   "id": "0371687b",
   "metadata": {},
   "source": [
    "### Extracting New Features"
   ]
  },
  {
   "cell_type": "code",
   "execution_count": null,
   "id": "5ce1e6a4",
   "metadata": {},
   "outputs": [],
   "source": [
    "# Create a new feature 'total_assets_value' by summing the four asset columns.\n",
    "df['total_assets_value'] = (\n",
    "    df['residential_assets_value'] + \n",
    "    df['commercial_assets_value'] +\n",
    "    df['luxury_assets_value'] +\n",
    "    df['bank_asset_value']\n",
    ")"
   ]
  },
  {
   "cell_type": "code",
   "execution_count": 20,
   "id": "25f3f0de",
   "metadata": {},
   "outputs": [],
   "source": [
    "# You can now drop the individual asset columns if you want, as they are now represented by the new feature.\n",
    "df = df.drop([\n",
    "    'residential_assets_value', \n",
    "    'commercial_assets_value', \n",
    "    'luxury_assets_value', \n",
    "    'bank_asset_value'\n",
    "], axis=1)"
   ]
  },
  {
   "cell_type": "code",
   "execution_count": 21,
   "id": "ade20fd8",
   "metadata": {},
   "outputs": [
    {
     "name": "stdout",
     "output_type": "stream",
     "text": [
      "\n",
      "--- DataFrame after Feature Engineering ---\n",
      "   no_of_dependents  education  self_employed  income_annum  loan_amount  \\\n",
      "0                 2          0              0       9600000     29900000   \n",
      "1                 0          1              1       4100000     12200000   \n",
      "2                 3          0              0       9100000     29700000   \n",
      "3                 3          0              0       8200000     30700000   \n",
      "4                 5          1              1       9800000     24200000   \n",
      "\n",
      "   loan_term  cibil_score  loan_status  total_assets_value  \n",
      "0         12          778            0            50700000  \n",
      "1          8          417            1            17000000  \n",
      "2         20          506            1            57700000  \n",
      "3          8          467            1            52700000  \n",
      "4         20          382            1            55000000  \n"
     ]
    }
   ],
   "source": [
    "print(\"\\n--- DataFrame after Feature Engineering ---\")\n",
    "print(df.head())"
   ]
  },
  {
   "cell_type": "code",
   "execution_count": 22,
   "id": "34ed0a86",
   "metadata": {},
   "outputs": [
    {
     "name": "stdout",
     "output_type": "stream",
     "text": [
      "<class 'pandas.core.frame.DataFrame'>\n",
      "RangeIndex: 4269 entries, 0 to 4268\n",
      "Data columns (total 9 columns):\n",
      " #   Column              Non-Null Count  Dtype\n",
      "---  ------              --------------  -----\n",
      " 0   no_of_dependents    4269 non-null   int64\n",
      " 1   education           4269 non-null   int64\n",
      " 2   self_employed       4269 non-null   int64\n",
      " 3   income_annum        4269 non-null   int64\n",
      " 4   loan_amount         4269 non-null   int64\n",
      " 5   loan_term           4269 non-null   int64\n",
      " 6   cibil_score         4269 non-null   int64\n",
      " 7   loan_status         4269 non-null   int64\n",
      " 8   total_assets_value  4269 non-null   int64\n",
      "dtypes: int64(9)\n",
      "memory usage: 300.3 KB\n",
      "None\n"
     ]
    }
   ],
   "source": [
    "print(df.info())"
   ]
  },
  {
   "cell_type": "code",
   "execution_count": 23,
   "id": "32d858c9",
   "metadata": {},
   "outputs": [
    {
     "data": {
      "text/plain": [
       "38421"
      ]
     },
     "execution_count": 23,
     "metadata": {},
     "output_type": "execute_result"
    }
   ],
   "source": [
    "df.size"
   ]
  },
  {
   "cell_type": "code",
   "execution_count": 24,
   "id": "1e33bc65",
   "metadata": {},
   "outputs": [
    {
     "data": {
      "text/plain": [
       "no_of_dependents      0\n",
       "education             0\n",
       "self_employed         0\n",
       "income_annum          0\n",
       "loan_amount           0\n",
       "loan_term             0\n",
       "cibil_score           0\n",
       "loan_status           0\n",
       "total_assets_value    0\n",
       "dtype: int64"
      ]
     },
     "execution_count": 24,
     "metadata": {},
     "output_type": "execute_result"
    }
   ],
   "source": [
    "df.isnull().sum()"
   ]
  },
  {
   "cell_type": "markdown",
   "id": "4289aaf4",
   "metadata": {},
   "source": [
    "#### Prepare Data for Modeling"
   ]
  },
  {
   "cell_type": "code",
   "execution_count": 26,
   "id": "899483bc",
   "metadata": {},
   "outputs": [
    {
     "data": {
      "text/plain": [
       "array([0, 1])"
      ]
     },
     "execution_count": 26,
     "metadata": {},
     "output_type": "execute_result"
    }
   ],
   "source": [
    "df['loan_status'].unique()"
   ]
  },
  {
   "cell_type": "code",
   "execution_count": null,
   "id": "d8e6f25d",
   "metadata": {},
   "outputs": [],
   "source": [
    "X = df.drop('loan_status', axis=1)\n",
    "y = df['loan_status']"
   ]
  },
  {
   "cell_type": "code",
   "execution_count": null,
   "id": "44439290",
   "metadata": {},
   "outputs": [],
   "source": [
    "# Split the data into training and testing sets\n",
    "from sklearn.model_selection import train_test_split\n",
    "X_train, X_test, y_train, y_test = train_test_split(\n",
    "    X, y, test_size=0.2, random_state=42, stratify=y\n",
    ")"
   ]
  },
  {
   "cell_type": "code",
   "execution_count": 29,
   "id": "bc54ad27",
   "metadata": {},
   "outputs": [
    {
     "name": "stdout",
     "output_type": "stream",
     "text": [
      "Training set size: 3415 samples\n",
      "Testing set size: 854 samples\n"
     ]
    }
   ],
   "source": [
    "print(f\"Training set size: {X_train.shape[0]} samples\")\n",
    "print(f\"Testing set size: {X_test.shape[0]} samples\")"
   ]
  },
  {
   "cell_type": "code",
   "execution_count": 30,
   "id": "7474f16d",
   "metadata": {},
   "outputs": [],
   "source": [
    "from sklearn.ensemble import RandomForestClassifier\n",
    "model = RandomForestClassifier(n_estimators=100, random_state=42)"
   ]
  },
  {
   "cell_type": "code",
   "execution_count": 32,
   "id": "bfa2e178",
   "metadata": {},
   "outputs": [
    {
     "name": "stdout",
     "output_type": "stream",
     "text": [
      "\n",
      "--- Training Model ---\n",
      "Model training complete.\n"
     ]
    }
   ],
   "source": [
    "print(\"\\n--- Training Model ---\")\n",
    "model.fit(X_train, y_train)\n",
    "print(\"Model training complete.\")"
   ]
  },
  {
   "cell_type": "markdown",
   "id": "be442cd5",
   "metadata": {},
   "source": [
    "#### Model Evaluation"
   ]
  },
  {
   "cell_type": "code",
   "execution_count": 33,
   "id": "610b692c",
   "metadata": {},
   "outputs": [],
   "source": [
    "# Make predictions on the test set\n",
    "y_pred = model.predict(X_test)"
   ]
  },
  {
   "cell_type": "code",
   "execution_count": 34,
   "id": "a5c6b2f9",
   "metadata": {},
   "outputs": [],
   "source": [
    "from sklearn.metrics import accuracy_score, confusion_matrix, classification_report"
   ]
  },
  {
   "cell_type": "code",
   "execution_count": 36,
   "id": "21e08406",
   "metadata": {},
   "outputs": [
    {
     "name": "stdout",
     "output_type": "stream",
     "text": [
      "\n",
      "--- Model Performance ---\n",
      "Accuracy: 0.9801\n",
      "\n",
      "Confusion Matrix:\n",
      "[[527   4]\n",
      " [ 13 310]]\n",
      "\n",
      "Classification Report (Precision, Recall, F1-Score):\n",
      "              precision    recall  f1-score   support\n",
      "\n",
      "           0       0.98      0.99      0.98       531\n",
      "           1       0.99      0.96      0.97       323\n",
      "\n",
      "    accuracy                           0.98       854\n",
      "   macro avg       0.98      0.98      0.98       854\n",
      "weighted avg       0.98      0.98      0.98       854\n",
      "\n"
     ]
    }
   ],
   "source": [
    "# Print evaluation metrics\n",
    "print(\"\\n--- Model Performance ---\")\n",
    "accuracy = accuracy_score(y_test, y_pred)\n",
    "conf_matrix = confusion_matrix(y_test, y_pred)\n",
    "class_report = classification_report(y_test, y_pred)\n",
    "\n",
    "print(f\"Accuracy: {accuracy:.4f}\")\n",
    "print(\"\\nConfusion Matrix:\")\n",
    "print(conf_matrix)\n",
    "print(\"\\nClassification Report (Precision, Recall, F1-Score):\")\n",
    "print(class_report)"
   ]
  },
  {
   "cell_type": "code",
   "execution_count": null,
   "id": "06183f47",
   "metadata": {},
   "outputs": [],
   "source": []
  }
 ],
 "metadata": {
  "kernelspec": {
   "display_name": "base",
   "language": "python",
   "name": "python3"
  },
  "language_info": {
   "codemirror_mode": {
    "name": "ipython",
    "version": 3
   },
   "file_extension": ".py",
   "mimetype": "text/x-python",
   "name": "python",
   "nbconvert_exporter": "python",
   "pygments_lexer": "ipython3",
   "version": "3.13.5"
  }
 },
 "nbformat": 4,
 "nbformat_minor": 5
}
